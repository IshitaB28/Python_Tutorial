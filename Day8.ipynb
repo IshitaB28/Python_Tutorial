{
 "cells": [
  {
   "cell_type": "code",
   "execution_count": 5,
   "metadata": {},
   "outputs": [
    {
     "name": "stdout",
     "output_type": "stream",
     "text": [
      "File not writeable\n",
      "10\n"
     ]
    }
   ],
   "source": [
    "try:\n",
    "    f=open('xyz.txt')\n",
    "    f.write(\"afsdgmhjld00\")\n",
    "except:\n",
    "    print(\"File not writeable\")\n",
    "else:\n",
    "    print(\"file works fine\")\n",
    "finally:\n",
    "    print(10)"
   ]
  },
  {
   "cell_type": "code",
   "execution_count": 6,
   "metadata": {},
   "outputs": [
    {
     "name": "stdout",
     "output_type": "stream",
     "text": [
      "file works fine\n",
      "10\n"
     ]
    }
   ],
   "source": [
    "try:\n",
    "    f=open('xyz.txt', 'w')\n",
    "    f.write(\"afsdgmhjld00\")\n",
    "except:\n",
    "    print(\"File not writeable\")\n",
    "else:\n",
    "    print(\"file works fine\")\n",
    "finally:\n",
    "    print(10)"
   ]
  },
  {
   "cell_type": "markdown",
   "metadata": {},
   "source": [
    "Compile time errors will not be handled in try except. It only works for runtimeerrors."
   ]
  },
  {
   "cell_type": "code",
   "execution_count": 9,
   "metadata": {},
   "outputs": [
    {
     "name": "stdout",
     "output_type": "stream",
     "text": [
      "File not writeable\n",
      "10\n",
      "[Errno 2] No such file or directory: 'xyz1.txt'\n"
     ]
    }
   ],
   "source": [
    "# you can write try except anywhere\n",
    "\n",
    "try:\n",
    "    f=open('xyz.txt')\n",
    "    f.write(\"afsdgmhjld00\")\n",
    "except:\n",
    "    print(\"File not writeable\")\n",
    "else:\n",
    "    print(\"file works fine\")\n",
    "finally:\n",
    "    print(10)\n",
    "    try:\n",
    "        f=open('xyz1.txt')\n",
    "    except Exception as e:\n",
    "        print(e)"
   ]
  },
  {
   "cell_type": "code",
   "execution_count": 4,
   "metadata": {},
   "outputs": [],
   "source": [
    "def askint():\n",
    "    while True:\n",
    "        \n",
    "        try:\n",
    "            v=int(input(\"Please enter an integer: \"))\n",
    "        except Exception as e:\n",
    "            print(e)\n",
    "            print(\"Enter an integer only.\")\n",
    "            continue\n",
    "        else:\n",
    "            print(\"Integer entered.\")\n",
    "            break\n",
    "        finally:\n",
    "            print(\"Finally.\")\n",
    "            try:\n",
    "                print(v)\n",
    "            except Exception as e:\n",
    "                print(e)\n",
    "            else:\n",
    "                print(\"Value v is present.\")\n",
    "    print(v)"
   ]
  },
  {
   "cell_type": "code",
   "execution_count": 5,
   "metadata": {},
   "outputs": [
    {
     "name": "stdout",
     "output_type": "stream",
     "text": [
      "Please enter an integer: jhsd\n",
      "invalid literal for int() with base 10: 'jhsd'\n",
      "Enter an integer only.\n",
      "Finally.\n",
      "local variable 'v' referenced before assignment\n",
      "Please enter an integer: ajw\n",
      "invalid literal for int() with base 10: 'ajw'\n",
      "Enter an integer only.\n",
      "Finally.\n",
      "local variable 'v' referenced before assignment\n",
      "Please enter an integer: 12\n",
      "Integer entered.\n",
      "Finally.\n",
      "12\n",
      "Value v is present.\n",
      "12\n"
     ]
    }
   ],
   "source": [
    "askint()"
   ]
  },
  {
   "cell_type": "code",
   "execution_count": 12,
   "metadata": {},
   "outputs": [
    {
     "name": "stdout",
     "output_type": "stream",
     "text": [
      "not writable\n"
     ]
    }
   ],
   "source": [
    "try:\n",
    "    f=open('xyz.txt')\n",
    "    f.write(\"Ishita\")\n",
    "except OSError as e:#IOError\n",
    "    print(e)\n",
    "except IOError:\n",
    "    print(\"This is an IOError\")"
   ]
  },
  {
   "cell_type": "code",
   "execution_count": 20,
   "metadata": {},
   "outputs": [
    {
     "name": "stdout",
     "output_type": "stream",
     "text": [
      "Catch file not found Error\n"
     ]
    }
   ],
   "source": [
    "try:\n",
    "    f=open('abz.txt')\n",
    "    f.write(\"Ishita\")\n",
    "except FileExistsError as e:#IOError\n",
    "    print(e)\n",
    "except ValueError:\n",
    "    print(\"Catch value Error\")\n",
    "except FileNotFoundError:\n",
    "    print(\"Catch file not found Error\")\n",
    "except IOError:\n",
    "    print(\"Catch io Error\")\n",
    "except OSError:\n",
    "    print(\"Catch os Error\")\n",
    "except Exception as e:\n",
    "    print(\"Other Error \",e)\n",
    "    \n",
    "# it also depends on priority. if you write os before io, and it is also a oserror, then oserror will execute first"
   ]
  },
  {
   "cell_type": "code",
   "execution_count": 23,
   "metadata": {},
   "outputs": [
    {
     "name": "stdout",
     "output_type": "stream",
     "text": [
      "Error with this code\n"
     ]
    }
   ],
   "source": [
    "try:\n",
    "    f=open('hsdf.txt')\n",
    "    f.write('hagfsdk')\n",
    "except (OSError, FileExistsError, FileNotFoundError, ValueError, Exception):\n",
    "    print('Error with this code')"
   ]
  },
  {
   "cell_type": "code",
   "execution_count": 26,
   "metadata": {},
   "outputs": [],
   "source": [
    "def check():\n",
    "\n",
    "    try:\n",
    "        v=int(input(\"Enter integer: \"))\n",
    "        if v<2:\n",
    "            raise ValueError(\"Not what I was looking for.\")\n",
    "    except ValueError as e:\n",
    "        print(e)"
   ]
  },
  {
   "cell_type": "code",
   "execution_count": 27,
   "metadata": {},
   "outputs": [
    {
     "name": "stdout",
     "output_type": "stream",
     "text": [
      "Enter integer: 5\n",
      "Enter integer: 1\n",
      "Not what I was looking for.\n",
      "Enter integer: df\n",
      "invalid literal for int() with base 10: 'df'\n"
     ]
    }
   ],
   "source": [
    "check()\n",
    "check()\n",
    "check()"
   ]
  },
  {
   "cell_type": "markdown",
   "metadata": {},
   "source": [
    "The above is how we write our own exception"
   ]
  },
  {
   "cell_type": "markdown",
   "metadata": {},
   "source": [
    "# Lite Database SQLITE"
   ]
  },
  {
   "cell_type": "markdown",
   "metadata": {},
   "source": [
    "It is an in memory database"
   ]
  },
  {
   "cell_type": "code",
   "execution_count": 28,
   "metadata": {},
   "outputs": [],
   "source": [
    "import sqlite3"
   ]
  },
  {
   "cell_type": "code",
   "execution_count": 30,
   "metadata": {},
   "outputs": [],
   "source": [
    "c=sqlite3.connect(\"Ishita\")"
   ]
  },
  {
   "cell_type": "code",
   "execution_count": 31,
   "metadata": {},
   "outputs": [
    {
     "data": {
      "text/plain": [
       "<sqlite3.Cursor at 0x2a0841151f0>"
      ]
     },
     "execution_count": 31,
     "metadata": {},
     "output_type": "execute_result"
    }
   ],
   "source": [
    "c.execute('drop table if exists abc')\n",
    "#execute lines one by one\n",
    "#execute many executes many lines"
   ]
  },
  {
   "cell_type": "code",
   "execution_count": 34,
   "metadata": {},
   "outputs": [
    {
     "data": {
      "text/plain": [
       "<sqlite3.Cursor at 0x2a0841152d0>"
      ]
     },
     "execution_count": 34,
     "metadata": {},
     "output_type": "execute_result"
    }
   ],
   "source": [
    "c.execute(\"create table abc(id int, name text, score int)\")"
   ]
  },
  {
   "cell_type": "code",
   "execution_count": 36,
   "metadata": {},
   "outputs": [
    {
     "data": {
      "text/plain": [
       "<sqlite3.Cursor at 0x2a084115570>"
      ]
     },
     "execution_count": 36,
     "metadata": {},
     "output_type": "execute_result"
    }
   ],
   "source": [
    "c.execute(\"insert into abc(id, name, score) values(1, 'Ishita', 10)\")"
   ]
  },
  {
   "cell_type": "code",
   "execution_count": 37,
   "metadata": {},
   "outputs": [],
   "source": [
    "c.commit()"
   ]
  },
  {
   "cell_type": "code",
   "execution_count": 38,
   "metadata": {},
   "outputs": [],
   "source": [
    "c.execute(\"insert into abc(id, name, score) values(2, 'Heenata', 4)\")\n",
    "c.execute(\"insert into abc(id, name, score) values(3, 'Kagayama', 5)\")\n",
    "c.execute(\"insert into abc(id, name, score) values(4, 'Sugiwara', 9)\")\n",
    "c.execute(\"insert into abc(id, name, score) values(5, 'Sukishima', 10)\")\n",
    "c.commit()"
   ]
  },
  {
   "cell_type": "code",
   "execution_count": 40,
   "metadata": {},
   "outputs": [
    {
     "data": {
      "text/plain": [
       "[(1, 'Ishita', 10),\n",
       " (2, 'Heenata', 4),\n",
       " (3, 'Kagayama', 5),\n",
       " (4, 'Sugiwara', 9),\n",
       " (5, 'Sukishima', 10)]"
      ]
     },
     "execution_count": 40,
     "metadata": {},
     "output_type": "execute_result"
    }
   ],
   "source": [
    "list(c.execute('select * from abc'))"
   ]
  },
  {
   "cell_type": "code",
   "execution_count": 41,
   "metadata": {},
   "outputs": [
    {
     "data": {
      "text/plain": [
       "(1, 'Ishita', 10)"
      ]
     },
     "execution_count": 41,
     "metadata": {},
     "output_type": "execute_result"
    }
   ],
   "source": [
    "list(c.execute('select * from abc'))[0]"
   ]
  },
  {
   "cell_type": "code",
   "execution_count": 42,
   "metadata": {},
   "outputs": [
    {
     "name": "stdout",
     "output_type": "stream",
     "text": [
      "(1, 'Ishita', 10)\n",
      "(2, 'Heenata', 4)\n",
      "(3, 'Kagayama', 5)\n",
      "(4, 'Sugiwara', 9)\n",
      "(5, 'Sukishima', 10)\n"
     ]
    }
   ],
   "source": [
    "for i in c.execute('select * from abc'):\n",
    "    print(i)"
   ]
  },
  {
   "cell_type": "code",
   "execution_count": 44,
   "metadata": {},
   "outputs": [
    {
     "name": "stdout",
     "output_type": "stream",
     "text": [
      "(2, 'Heenata', 4)\n",
      "(3, 'Kagayama', 5)\n",
      "(4, 'Sugiwara', 9)\n",
      "(1, 'Ishita', 10)\n",
      "(5, 'Sukishima', 10)\n"
     ]
    }
   ],
   "source": [
    "for i in c.execute('select * from abc order by score'):\n",
    "    print(i)"
   ]
  },
  {
   "cell_type": "code",
   "execution_count": 46,
   "metadata": {},
   "outputs": [
    {
     "name": "stdout",
     "output_type": "stream",
     "text": [
      "(2, 'Heenata', 4)\n"
     ]
    }
   ],
   "source": [
    "for i in c.execute(\"select * from abc where name ='Heenata'\"):\n",
    "    print(i)"
   ]
  },
  {
   "cell_type": "code",
   "execution_count": null,
   "metadata": {},
   "outputs": [],
   "source": []
  }
 ],
 "metadata": {
  "kernelspec": {
   "display_name": "Python 3",
   "language": "python",
   "name": "python3"
  },
  "language_info": {
   "codemirror_mode": {
    "name": "ipython",
    "version": 3
   },
   "file_extension": ".py",
   "mimetype": "text/x-python",
   "name": "python",
   "nbconvert_exporter": "python",
   "pygments_lexer": "ipython3",
   "version": "3.7.4"
  }
 },
 "nbformat": 4,
 "nbformat_minor": 2
}
